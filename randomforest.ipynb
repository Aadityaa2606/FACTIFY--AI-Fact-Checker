{
  "cells": [
    {
      "cell_type": "markdown",
      "metadata": {
        "id": "543wNsXnVjLC"
      },
      "source": [
        "<img src=\"\" width=300 align=\"left\">\n",
        "<center>\n",
        "<h4>Starting Kit</h4>\n",
        "<p>FaDe-Factify workshop</a> in AAAI-21.</p>\n",
        "</center>"
      ]
    },
    {
      "cell_type": "code",
      "execution_count": 1,
      "metadata": {
        "id": "iOStQu9DUkVn"
      },
      "outputs": [],
      "source": [
        "import os\n",
        "import io\n",
        "import requests\n",
        "from PIL import Image\n",
        "import json"
      ]
    },
    {
      "cell_type": "markdown",
      "metadata": {
        "id": "jaGXdX8TZjeW"
      },
      "source": [
        "# Installation\n"
      ]
    },
    {
      "cell_type": "markdown",
      "metadata": {
        "id": "tW01nx61ZppW"
      },
      "source": [
        "Download the training data from the codalab competition page from the Participate > Files > Public Data\n",
        "or use the drive library below"
      ]
    },
    {
      "cell_type": "code",
      "execution_count": null,
      "metadata": {
        "id": "NJv3P3PT-4-X"
      },
      "outputs": [],
      "source": [
        "# from google_drive_downloader import GoogleDriveDownloader as gdd\n",
        "# gdd.download_file_from_google_drive(file_id='',\n",
        "#                                     dest_path='/content/public_folder.zip')"
      ]
    },
    {
      "cell_type": "code",
      "execution_count": null,
      "metadata": {
        "id": "GqDwOJ4sYecJ"
      },
      "outputs": [],
      "source": [
        "# with zipfile.ZipFile(\"public_folder.zip\") as file:\n",
        "#   file.extractall(pwd = bytes(pswd, 'utf-8'))"
      ]
    },
    {
      "cell_type": "code",
      "execution_count": 4,
      "metadata": {
        "id": "RlJkk04rApAJ"
      },
      "outputs": [],
      "source": [
        "train_path = \"val/\""
      ]
    },
    {
      "cell_type": "code",
      "execution_count": 5,
      "metadata": {
        "id": "l9ydINvCaYEq"
      },
      "outputs": [],
      "source": [
        "train_data = None\n",
        "with open(train_path + \"train.json\") as f:\n",
        "    train_data = json.load(f)"
      ]
    },
    {
      "cell_type": "code",
      "execution_count": 8,
      "metadata": {
        "id": "sGtQn4TFFol5"
      },
      "outputs": [
        {
          "name": "stdout",
          "output_type": "stream",
          "text": [
            "{\n",
            "    \"id\": 80114,\n",
            "    \"claim_id\": 238379,\n",
            "    \"claim\": \"The Blue Ridge Mountains contains the highest rise of this river. The river connects to the Covington River.\",\n",
            "    \"evidence\": \"\\\"The Hazel River is a 47.8 mi tributary of the Rappahannock River in northern Virginia in the United States. Via the Rappahannock, it is part of the Chesapeake Bay watershed. It rises in Shenandoah National Park and flows generally eastwardly through Rappahannock and Culpeper counties. It joins the Rappahannock River from the west about 3 mi northwest of Remington. The Hazel's largest tributaries are the Hughes River, which joins it at the border of Rappahannock and Culpeper counties, and the Thornton River, which joins it in Culpeper County.\\\", \\\"The Covington River is a 7.4 mi river in the U.S. state of Virginia. The river rises at the eastern foot of the Blue Ridge Mountains in Rappahannock County and flows southeast to the Rush River just north of that river's confluence with the Thornton River. The river system flows via the Hazel River to the Rappahannock River, a tributary of Chesapeake Bay.\\\", 'National Register of Historic Places listings in Shenandoah National Park', 'Shenandoah National Park (often ) is a national park that encompasses part of the Blue Ridge Mountains in the U.S. state of Virginia. The park is long and narrow, with the broad Shenandoah River and Valley on the west side, and the rolling hills of the Virginia Piedmont on the east. Although the scenic Skyline Drive is likely the most prominent feature of the park, almost 40% of the land area 79579 acre has been designated as wilderness and is protected as part of the National Wilderness Preservation System. The highest peak is Hawksbill Mountain at 4051 ft .', 'This is a list of the amphibians that occur in the Shenandoah National Park in the Blue Ridge Mountains of western Virginia.\",\n",
            "    \"question\": [\n",
            "        \"What river does the blue ridge mountains contain\",\n",
            "        \"Where is the highest rise of the covington river?\",\n",
            "        \"What connects to the covington river?\",\n",
            "        \"Where does the blue ridge river connect to?\"\n",
            "    ],\n",
            "    \"claim_answer\": [\n",
            "        \"the highest rise of this river The river connects to the Covington River\",\n",
            "        \"The Blue Ridge Mountains\",\n",
            "        \"The river\",\n",
            "        \"to the Covington River\"\n",
            "    ],\n",
            "    \"evidence_answer\": [\n",
            "        \"Covington River\",\n",
            "        \"eastern foot of the Blue Ridge Mountains in Rappahannock County\",\n",
            "        \"Hughes River\",\n",
            "        \"Chesapeake Bay\"\n",
            "    ],\n",
            "    \"label\": \"Support\"\n",
            "}\n"
          ]
        }
      ],
      "source": [
        "print(json.dumps(train_data[0], indent=4))"
      ]
    },
    {
      "cell_type": "markdown",
      "metadata": {
        "id": "QvGbRIk5adRW"
      },
      "source": [
        "# Model"
      ]
    },
    {
      "cell_type": "code",
      "execution_count": null,
      "metadata": {
        "id": "OATJ1zkcah9j"
      },
      "outputs": [],
      "source": [
        "# Model definition and training\n",
        "\n"
      ]
    },
    {
      "cell_type": "markdown",
      "metadata": {
        "id": "RfA-qmFNanAP"
      },
      "source": [
        "#Submission"
      ]
    },
    {
      "cell_type": "code",
      "execution_count": null,
      "metadata": {
        "id": "nEZsMGZugeWM"
      },
      "outputs": [],
      "source": [
        "val_data = None\n",
        "with open(download_path + \"val.json\") as f:\n",
        "    val_data = json.load(f)"
      ]
    },
    {
      "cell_type": "code",
      "execution_count": null,
      "metadata": {
        "id": "cfS5FL0GIZ1_"
      },
      "outputs": [],
      "source": [
        "for inp in val_data:\n",
        "    claim_ans = []\n",
        "    evidence_ans = []\n",
        "    for q in inp[\"question\"]:\n",
        "        pred = model.predict([inp[\"claim\"]])\n",
        "        answer = gen_ans(q, pred)\n",
        "        claim_ans.append(answer)\n",
        "\n",
        "        pred = model.predict([inp[\"evidence\"]])\n",
        "        answer = gen_ans(q, pred)\n",
        "        evidence_ans.append(answer)\n",
        "\n",
        "    label = model.predict([claim_ans, evidence_ans])\n",
        "\n",
        "    val_data[\"claim_answer\"] = claim_ans\n",
        "    val_data[\"evidence_answer\"] = evidence_ans\n",
        "    val_data[\"label\"] = label"
      ]
    },
    {
      "cell_type": "code",
      "execution_count": null,
      "metadata": {
        "id": "r4LqDffgaug3"
      },
      "outputs": [],
      "source": [
        "with open(\"answer.json\", \"w\") as outfile:\n",
        "    json.dump(val_data, outfile, indent=2)"
      ]
    },
    {
      "cell_type": "code",
      "execution_count": null,
      "metadata": {
        "id": "9Djo3kg-bHAZ"
      },
      "outputs": [],
      "source": [
        "!zip answer.zip answer.json"
      ]
    }
  ],
  "metadata": {
    "colab": {
      "collapsed_sections": [
        "QvGbRIk5adRW"
      ],
      "name": "Template.ipynb",
      "provenance": []
    },
    "kernelspec": {
      "display_name": "Python 3 (ipykernel)",
      "language": "python",
      "name": "python3"
    },
    "vscode": {
      "interpreter": {
        "hash": "8f4f5e970763be4abb15c7774338dc85a98757f08027f7ca868842974925641c"
      }
    }
  },
  "nbformat": 4,
  "nbformat_minor": 0
}
